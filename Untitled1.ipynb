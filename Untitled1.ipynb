{
 "cells": [
  {
   "cell_type": "code",
   "execution_count": 1,
   "metadata": {},
   "outputs": [
    {
     "name": "stdout",
     "output_type": "stream",
     "text": [
      "[1, 2, (3, [])]\n"
     ]
    }
   ],
   "source": []
  },
  {
   "cell_type": "code",
   "execution_count": 3,
   "metadata": {},
   "outputs": [
    {
     "name": "stdout",
     "output_type": "stream",
     "text": [
      "122\n"
     ]
    }
   ],
   "source": [
    " l = [ \"[CLS]\",\n",
    "            \"Hello\",\n",
    "            \",\",\n",
    "            \"dear\",\n",
    "            \"viewers\",\n",
    "            \".\",\n",
    "            \"Welcome\",\n",
    "            \"to\",\n",
    "            \"Focus\",\n",
    "            \"Today\",\n",
    "            \".\",\n",
    "            \"Today\",\n",
    "            \",\",\n",
    "            \"let\",\n",
    "            \"'\",\n",
    "            \"s\",\n",
    "            \"turn\",\n",
    "            \"our\",\n",
    "            \"attention\",\n",
    "            \"to\",\n",
    "            \"a\",\n",
    "            \"road\",\n",
    "            \"cave\",\n",
    "            \"-\",\n",
    "            \"in\",\n",
    "            \"accident\",\n",
    "            \"that\",\n",
    "            \"happened\",\n",
    "            \"in\",\n",
    "            \"Beijing\",\n",
    "            \"over\",\n",
    "            \"the\",\n",
    "            \"holiday\",\n",
    "            \".\",\n",
    "            \"Before\",\n",
    "            \"dawn\",\n",
    "            \"on\",\n",
    "            \"January\",\n",
    "            \"3\",\n",
    "            \",\",\n",
    "            \"a\",\n",
    "            \"sewage\",\n",
    "            \"pipe\",\n",
    "            \"leak\",\n",
    "            \"##age\",\n",
    "            \"accident\",\n",
    "            \"occurred\",\n",
    "            \"at\",\n",
    "            \"the\",\n",
    "            \"main\",\n",
    "            \"and\",\n",
    "            \"side\",\n",
    "            \"roads\",\n",
    "            \"of\",\n",
    "            \"Jing\",\n",
    "            \"##gua\",\n",
    "            \"##ng\",\n",
    "            \"Bridge\",\n",
    "            \",\",\n",
    "            \"East\",\n",
    "            \"Third\",\n",
    "            \"Ring\",\n",
    "            \"Road\",\n",
    "            \",\",\n",
    "            \"Beijing\",\n",
    "            \"Municipality\",\n",
    "            \",\",\n",
    "            \"resulting\",\n",
    "            \"in\",\n",
    "            \"the\",\n",
    "            \"road\",\n",
    "            \"ca\",\n",
    "            \"##ving\",\n",
    "            \"in\",\n",
    "            \".\",\n",
    "            \"Re\",\n",
    "            \"##lev\",\n",
    "            \"##ant\",\n",
    "            \"departments\",\n",
    "            \"from\",\n",
    "            \"Beijing\",\n",
    "            \"Municipality\",\n",
    "            \"promptly\",\n",
    "            \"activated\",\n",
    "            \"emergency\",\n",
    "            \"con\",\n",
    "            \"##ting\",\n",
    "            \"##ency\",\n",
    "            \"plans\",\n",
    "            \".\",\n",
    "            \"The\",\n",
    "            \"traffic\",\n",
    "            \"administration\",\n",
    "            \"department\",\n",
    "            \"carried\",\n",
    "            \"out\",\n",
    "            \"traffic\",\n",
    "            \"supervision\",\n",
    "            \"near\",\n",
    "            \"the\",\n",
    "            \"accident\",\n",
    "            \"scene\",\n",
    "            \".\",\n",
    "            \"Well\",\n",
    "            \",\",\n",
    "            \"how\",\n",
    "            \"did\",\n",
    "            \"the\",\n",
    "            \"emergency\",\n",
    "            \"response\",\n",
    "            \"mechanisms\",\n",
    "            \"activated\",\n",
    "            \"by\",\n",
    "            \"governmental\",\n",
    "            \"departments\",\n",
    "            \"operate\",\n",
    "            \"effectively\",\n",
    "            \"during\",\n",
    "            \"the\",\n",
    "            \"holiday\",\n",
    "            \"?\",\n",
    "            \"[SEP]\"]\n",
    " print(len(l))"
   ]
  },
  {
   "cell_type": "code",
   "execution_count": 7,
   "metadata": {},
   "outputs": [
    {
     "name": "stdout",
     "output_type": "stream",
     "text": [
      "True\n"
     ]
    }
   ],
   "source": [
    "a = 1e-5\n",
    "print(a == 0.00001)"
   ]
  },
  {
   "cell_type": "code",
   "execution_count": null,
   "metadata": {},
   "outputs": [],
   "source": []
  }
 ],
 "metadata": {
  "kernelspec": {
   "display_name": "Python 3",
   "language": "python",
   "name": "python3"
  },
  "language_info": {
   "codemirror_mode": {
    "name": "ipython",
    "version": 3
   },
   "file_extension": ".py",
   "mimetype": "text/x-python",
   "name": "python",
   "nbconvert_exporter": "python",
   "pygments_lexer": "ipython3",
   "version": "3.6.7"
  }
 },
 "nbformat": 4,
 "nbformat_minor": 2
}
